{
 "cells": [
  {
   "cell_type": "markdown",
   "metadata": {},
   "source": [
    "# Part I - Dataset Exploration for Ford GoBike System Data\n",
    "## by Sarah Ali\n",
    "\n",
    "## Introduction\n",
    "> This data set includes information about individual rides made in a bike-sharing system covering the greater San Francisco Bay area.\n",
    "> For this analysis I went ahead to gather datasets for the first year quater January - April 2019 from this link: https://s3.amazonaws.com/baywheels-data/index.html\n",
    "\n",
    "> Ford GoBike, like other bike share systems, consists of a fleet of specially designed, sturdy and durable bikes that are locked into a network of docking stations throughout the city. The bikes can be unlocked from one station and returned to any other station in the system, making them ideal for one-way trips. People use bike share to commute to work or school, run errands, get to appointments or social engagements and more. It's a fun, convenient and affordable way to get around\n",
    "\n",
    "\n",
    "## Preliminary Wrangling\n"
   ]
  },
  {
   "cell_type": "code",
   "execution_count": 1,
   "metadata": {},
   "outputs": [],
   "source": [
    "# import all packages needed for exploration\n",
    "import numpy as np\n",
    "import pandas as pd\n",
    "import matplotlib.pyplot as plt\n",
    "import seaborn as sb\n",
    "\n",
    "%matplotlib inline"
   ]
  },
  {
   "cell_type": "code",
   "execution_count": 27,
   "metadata": {
    "scrolled": true
   },
   "outputs": [
    {
     "data": {
      "text/html": [
       "<div>\n",
       "<style scoped>\n",
       "    .dataframe tbody tr th:only-of-type {\n",
       "        vertical-align: middle;\n",
       "    }\n",
       "\n",
       "    .dataframe tbody tr th {\n",
       "        vertical-align: top;\n",
       "    }\n",
       "\n",
       "    .dataframe thead th {\n",
       "        text-align: right;\n",
       "    }\n",
       "</style>\n",
       "<table border=\"1\" class=\"dataframe\">\n",
       "  <thead>\n",
       "    <tr style=\"text-align: right;\">\n",
       "      <th></th>\n",
       "      <th>duration_sec</th>\n",
       "      <th>start_time</th>\n",
       "      <th>end_time</th>\n",
       "      <th>start_station_id</th>\n",
       "      <th>start_station_name</th>\n",
       "      <th>start_station_latitude</th>\n",
       "      <th>start_station_longitude</th>\n",
       "      <th>end_station_id</th>\n",
       "      <th>end_station_name</th>\n",
       "      <th>end_station_latitude</th>\n",
       "      <th>end_station_longitude</th>\n",
       "      <th>bike_id</th>\n",
       "      <th>user_type</th>\n",
       "      <th>bike_share_for_all_trip</th>\n",
       "      <th>member_birth_year</th>\n",
       "      <th>member_gender</th>\n",
       "    </tr>\n",
       "  </thead>\n",
       "  <tbody>\n",
       "    <tr>\n",
       "      <th>89574</th>\n",
       "      <td>1592</td>\n",
       "      <td>2019-01-20 20:38:21.4610</td>\n",
       "      <td>2019-01-20 21:04:53.8680</td>\n",
       "      <td>6.0</td>\n",
       "      <td>The Embarcadero at Sansome St</td>\n",
       "      <td>37.804770</td>\n",
       "      <td>-122.403234</td>\n",
       "      <td>17.0</td>\n",
       "      <td>Embarcadero BART Station (Beale St at Market St)</td>\n",
       "      <td>37.792251</td>\n",
       "      <td>-122.397086</td>\n",
       "      <td>2832</td>\n",
       "      <td>Customer</td>\n",
       "      <td>No</td>\n",
       "      <td>NaN</td>\n",
       "      <td>NaN</td>\n",
       "    </tr>\n",
       "    <tr>\n",
       "      <th>192814</th>\n",
       "      <td>1939</td>\n",
       "      <td>2019-02-28 20:08:56.7470</td>\n",
       "      <td>2019-02-28 20:41:16.5700</td>\n",
       "      <td>160.0</td>\n",
       "      <td>West Oakland BART Station</td>\n",
       "      <td>37.805318</td>\n",
       "      <td>-122.294837</td>\n",
       "      <td>274.0</td>\n",
       "      <td>Oregon St at Adeline St</td>\n",
       "      <td>37.857567</td>\n",
       "      <td>-122.267558</td>\n",
       "      <td>2997</td>\n",
       "      <td>Subscriber</td>\n",
       "      <td>No</td>\n",
       "      <td>1994.0</td>\n",
       "      <td>Female</td>\n",
       "    </tr>\n",
       "    <tr>\n",
       "      <th>210165</th>\n",
       "      <td>496</td>\n",
       "      <td>2019-02-26 19:26:11.3040</td>\n",
       "      <td>2019-02-26 19:34:27.6320</td>\n",
       "      <td>64.0</td>\n",
       "      <td>5th St at Brannan St</td>\n",
       "      <td>37.776754</td>\n",
       "      <td>-122.399018</td>\n",
       "      <td>60.0</td>\n",
       "      <td>8th St at Ringold St</td>\n",
       "      <td>37.774520</td>\n",
       "      <td>-122.409449</td>\n",
       "      <td>5413</td>\n",
       "      <td>Subscriber</td>\n",
       "      <td>No</td>\n",
       "      <td>1987.0</td>\n",
       "      <td>Male</td>\n",
       "    </tr>\n",
       "    <tr>\n",
       "      <th>261132</th>\n",
       "      <td>736</td>\n",
       "      <td>2019-02-19 20:15:46.5840</td>\n",
       "      <td>2019-02-19 20:28:02.7400</td>\n",
       "      <td>15.0</td>\n",
       "      <td>San Francisco Ferry Building (Harry Bridges Pl...</td>\n",
       "      <td>37.795392</td>\n",
       "      <td>-122.394203</td>\n",
       "      <td>66.0</td>\n",
       "      <td>3rd St at Townsend St</td>\n",
       "      <td>37.778742</td>\n",
       "      <td>-122.392741</td>\n",
       "      <td>1672</td>\n",
       "      <td>Subscriber</td>\n",
       "      <td>No</td>\n",
       "      <td>1977.0</td>\n",
       "      <td>Female</td>\n",
       "    </tr>\n",
       "    <tr>\n",
       "      <th>690788</th>\n",
       "      <td>210</td>\n",
       "      <td>2019-04-22 09:00:22.7580</td>\n",
       "      <td>2019-04-22 09:03:53.5620</td>\n",
       "      <td>44.0</td>\n",
       "      <td>Civic Center/UN Plaza BART Station (Market St ...</td>\n",
       "      <td>37.781074</td>\n",
       "      <td>-122.411738</td>\n",
       "      <td>58.0</td>\n",
       "      <td>Market St at 10th St</td>\n",
       "      <td>37.776619</td>\n",
       "      <td>-122.417385</td>\n",
       "      <td>2941</td>\n",
       "      <td>Subscriber</td>\n",
       "      <td>No</td>\n",
       "      <td>NaN</td>\n",
       "      <td>NaN</td>\n",
       "    </tr>\n",
       "  </tbody>\n",
       "</table>\n",
       "</div>"
      ],
      "text/plain": [
       "        duration_sec                start_time                  end_time  \\\n",
       "89574           1592  2019-01-20 20:38:21.4610  2019-01-20 21:04:53.8680   \n",
       "192814          1939  2019-02-28 20:08:56.7470  2019-02-28 20:41:16.5700   \n",
       "210165           496  2019-02-26 19:26:11.3040  2019-02-26 19:34:27.6320   \n",
       "261132           736  2019-02-19 20:15:46.5840  2019-02-19 20:28:02.7400   \n",
       "690788           210  2019-04-22 09:00:22.7580  2019-04-22 09:03:53.5620   \n",
       "\n",
       "        start_station_id                                 start_station_name  \\\n",
       "89574                6.0                      The Embarcadero at Sansome St   \n",
       "192814             160.0                          West Oakland BART Station   \n",
       "210165              64.0                               5th St at Brannan St   \n",
       "261132              15.0  San Francisco Ferry Building (Harry Bridges Pl...   \n",
       "690788              44.0  Civic Center/UN Plaza BART Station (Market St ...   \n",
       "\n",
       "        start_station_latitude  start_station_longitude  end_station_id  \\\n",
       "89574                37.804770              -122.403234            17.0   \n",
       "192814               37.805318              -122.294837           274.0   \n",
       "210165               37.776754              -122.399018            60.0   \n",
       "261132               37.795392              -122.394203            66.0   \n",
       "690788               37.781074              -122.411738            58.0   \n",
       "\n",
       "                                        end_station_name  \\\n",
       "89574   Embarcadero BART Station (Beale St at Market St)   \n",
       "192814                           Oregon St at Adeline St   \n",
       "210165                              8th St at Ringold St   \n",
       "261132                             3rd St at Townsend St   \n",
       "690788                              Market St at 10th St   \n",
       "\n",
       "        end_station_latitude  end_station_longitude  bike_id   user_type  \\\n",
       "89574              37.792251            -122.397086     2832    Customer   \n",
       "192814             37.857567            -122.267558     2997  Subscriber   \n",
       "210165             37.774520            -122.409449     5413  Subscriber   \n",
       "261132             37.778742            -122.392741     1672  Subscriber   \n",
       "690788             37.776619            -122.417385     2941  Subscriber   \n",
       "\n",
       "       bike_share_for_all_trip  member_birth_year member_gender  \n",
       "89574                       No                NaN           NaN  \n",
       "192814                      No             1994.0        Female  \n",
       "210165                      No             1987.0          Male  \n",
       "261132                      No             1977.0        Female  \n",
       "690788                      No                NaN           NaN  "
      ]
     },
     "execution_count": 27,
     "metadata": {},
     "output_type": "execute_result"
    }
   ],
   "source": [
    "# merge all four csv files into one for the first quater.\n",
    "ford_data = pd.concat(\n",
    "            map(pd.read_csv, ['January-fordgobike-tripdata.csv', 'Feb-fordgobike-tripdata.csv', 'March-fordgobike-tripdata.csv',\n",
    "                                 'April-fordgobike-tripdata.csv']), ignore_index=True, sort = False)\n",
    "ford_data.sample(5)"
   ]
  },
  {
   "cell_type": "code",
   "execution_count": 3,
   "metadata": {
    "scrolled": true
   },
   "outputs": [
    {
     "data": {
      "text/plain": [
       "(870904, 16)"
      ]
     },
     "execution_count": 3,
     "metadata": {},
     "output_type": "execute_result"
    }
   ],
   "source": [
    "ford_data.shape"
   ]
  },
  {
   "cell_type": "code",
   "execution_count": 4,
   "metadata": {},
   "outputs": [
    {
     "data": {
      "text/html": [
       "<div>\n",
       "<style scoped>\n",
       "    .dataframe tbody tr th:only-of-type {\n",
       "        vertical-align: middle;\n",
       "    }\n",
       "\n",
       "    .dataframe tbody tr th {\n",
       "        vertical-align: top;\n",
       "    }\n",
       "\n",
       "    .dataframe thead th {\n",
       "        text-align: right;\n",
       "    }\n",
       "</style>\n",
       "<table border=\"1\" class=\"dataframe\">\n",
       "  <thead>\n",
       "    <tr style=\"text-align: right;\">\n",
       "      <th></th>\n",
       "      <th>duration_sec</th>\n",
       "      <th>start_station_id</th>\n",
       "      <th>start_station_latitude</th>\n",
       "      <th>start_station_longitude</th>\n",
       "      <th>end_station_id</th>\n",
       "      <th>end_station_latitude</th>\n",
       "      <th>end_station_longitude</th>\n",
       "      <th>bike_id</th>\n",
       "      <th>member_birth_year</th>\n",
       "    </tr>\n",
       "  </thead>\n",
       "  <tbody>\n",
       "    <tr>\n",
       "      <th>count</th>\n",
       "      <td>870904.000000</td>\n",
       "      <td>870174.000000</td>\n",
       "      <td>870904.000000</td>\n",
       "      <td>870904.000000</td>\n",
       "      <td>870174.000000</td>\n",
       "      <td>870904.000000</td>\n",
       "      <td>870904.000000</td>\n",
       "      <td>870904.000000</td>\n",
       "      <td>175147.000000</td>\n",
       "    </tr>\n",
       "    <tr>\n",
       "      <th>mean</th>\n",
       "      <td>776.665073</td>\n",
       "      <td>139.027635</td>\n",
       "      <td>37.771409</td>\n",
       "      <td>-122.354787</td>\n",
       "      <td>137.507940</td>\n",
       "      <td>37.770832</td>\n",
       "      <td>-122.352015</td>\n",
       "      <td>4284.292828</td>\n",
       "      <td>1984.806437</td>\n",
       "    </tr>\n",
       "    <tr>\n",
       "      <th>std</th>\n",
       "      <td>1904.675372</td>\n",
       "      <td>113.704274</td>\n",
       "      <td>0.105744</td>\n",
       "      <td>0.174646</td>\n",
       "      <td>113.653225</td>\n",
       "      <td>0.197522</td>\n",
       "      <td>0.568010</td>\n",
       "      <td>1874.995593</td>\n",
       "      <td>10.116689</td>\n",
       "    </tr>\n",
       "    <tr>\n",
       "      <th>min</th>\n",
       "      <td>61.000000</td>\n",
       "      <td>3.000000</td>\n",
       "      <td>0.000000</td>\n",
       "      <td>-122.453704</td>\n",
       "      <td>3.000000</td>\n",
       "      <td>0.000000</td>\n",
       "      <td>-122.453704</td>\n",
       "      <td>11.000000</td>\n",
       "      <td>1878.000000</td>\n",
       "    </tr>\n",
       "    <tr>\n",
       "      <th>25%</th>\n",
       "      <td>337.000000</td>\n",
       "      <td>44.000000</td>\n",
       "      <td>37.770407</td>\n",
       "      <td>-122.413004</td>\n",
       "      <td>44.000000</td>\n",
       "      <td>37.770407</td>\n",
       "      <td>-122.411738</td>\n",
       "      <td>2916.000000</td>\n",
       "      <td>1980.000000</td>\n",
       "    </tr>\n",
       "    <tr>\n",
       "      <th>50%</th>\n",
       "      <td>537.000000</td>\n",
       "      <td>102.000000</td>\n",
       "      <td>37.780787</td>\n",
       "      <td>-122.398438</td>\n",
       "      <td>100.000000</td>\n",
       "      <td>37.781010</td>\n",
       "      <td>-122.398285</td>\n",
       "      <td>4882.000000</td>\n",
       "      <td>1987.000000</td>\n",
       "    </tr>\n",
       "    <tr>\n",
       "      <th>75%</th>\n",
       "      <td>840.000000</td>\n",
       "      <td>238.000000</td>\n",
       "      <td>37.797280</td>\n",
       "      <td>-122.291376</td>\n",
       "      <td>233.000000</td>\n",
       "      <td>37.797320</td>\n",
       "      <td>-122.291415</td>\n",
       "      <td>5568.000000</td>\n",
       "      <td>1992.000000</td>\n",
       "    </tr>\n",
       "    <tr>\n",
       "      <th>max</th>\n",
       "      <td>86114.000000</td>\n",
       "      <td>420.000000</td>\n",
       "      <td>37.880222</td>\n",
       "      <td>0.000000</td>\n",
       "      <td>420.000000</td>\n",
       "      <td>37.880222</td>\n",
       "      <td>0.000000</td>\n",
       "      <td>7108.000000</td>\n",
       "      <td>2001.000000</td>\n",
       "    </tr>\n",
       "  </tbody>\n",
       "</table>\n",
       "</div>"
      ],
      "text/plain": [
       "        duration_sec  start_station_id  start_station_latitude  \\\n",
       "count  870904.000000     870174.000000           870904.000000   \n",
       "mean      776.665073        139.027635               37.771409   \n",
       "std      1904.675372        113.704274                0.105744   \n",
       "min        61.000000          3.000000                0.000000   \n",
       "25%       337.000000         44.000000               37.770407   \n",
       "50%       537.000000        102.000000               37.780787   \n",
       "75%       840.000000        238.000000               37.797280   \n",
       "max     86114.000000        420.000000               37.880222   \n",
       "\n",
       "       start_station_longitude  end_station_id  end_station_latitude  \\\n",
       "count            870904.000000   870174.000000         870904.000000   \n",
       "mean               -122.354787      137.507940             37.770832   \n",
       "std                   0.174646      113.653225              0.197522   \n",
       "min                -122.453704        3.000000              0.000000   \n",
       "25%                -122.413004       44.000000             37.770407   \n",
       "50%                -122.398438      100.000000             37.781010   \n",
       "75%                -122.291376      233.000000             37.797320   \n",
       "max                   0.000000      420.000000             37.880222   \n",
       "\n",
       "       end_station_longitude        bike_id  member_birth_year  \n",
       "count          870904.000000  870904.000000      175147.000000  \n",
       "mean             -122.352015    4284.292828        1984.806437  \n",
       "std                 0.568010    1874.995593          10.116689  \n",
       "min              -122.453704      11.000000        1878.000000  \n",
       "25%              -122.411738    2916.000000        1980.000000  \n",
       "50%              -122.398285    4882.000000        1987.000000  \n",
       "75%              -122.291415    5568.000000        1992.000000  \n",
       "max                 0.000000    7108.000000        2001.000000  "
      ]
     },
     "execution_count": 4,
     "metadata": {},
     "output_type": "execute_result"
    }
   ],
   "source": [
    "ford_data.describe()"
   ]
  },
  {
   "cell_type": "code",
   "execution_count": 5,
   "metadata": {},
   "outputs": [
    {
     "data": {
      "text/plain": [
       "duration_sec                    0\n",
       "start_time                      0\n",
       "end_time                        0\n",
       "start_station_id              730\n",
       "start_station_name            730\n",
       "start_station_latitude          0\n",
       "start_station_longitude         0\n",
       "end_station_id                730\n",
       "end_station_name              730\n",
       "end_station_latitude            0\n",
       "end_station_longitude           0\n",
       "bike_id                         0\n",
       "user_type                       0\n",
       "bike_share_for_all_trip         0\n",
       "member_birth_year          695757\n",
       "member_gender              695757\n",
       "dtype: int64"
      ]
     },
     "execution_count": 5,
     "metadata": {},
     "output_type": "execute_result"
    }
   ],
   "source": [
    "ford_data.isnull().sum()"
   ]
  },
  {
   "cell_type": "code",
   "execution_count": 28,
   "metadata": {},
   "outputs": [],
   "source": [
    "#Create a new column to calculate age of Members\n",
    "ford_data['member_age'] = 2022 - ford_data['member_birth_year']\n"
   ]
  },
  {
   "cell_type": "code",
   "execution_count": 39,
   "metadata": {},
   "outputs": [],
   "source": [
    "#create a copy dataframe for exploration\n",
    "ford_cleandata = ford_data.copy()"
   ]
  },
  {
   "cell_type": "code",
   "execution_count": 43,
   "metadata": {},
   "outputs": [
    {
     "data": {
      "text/html": [
       "<div>\n",
       "<style scoped>\n",
       "    .dataframe tbody tr th:only-of-type {\n",
       "        vertical-align: middle;\n",
       "    }\n",
       "\n",
       "    .dataframe tbody tr th {\n",
       "        vertical-align: top;\n",
       "    }\n",
       "\n",
       "    .dataframe thead th {\n",
       "        text-align: right;\n",
       "    }\n",
       "</style>\n",
       "<table border=\"1\" class=\"dataframe\">\n",
       "  <thead>\n",
       "    <tr style=\"text-align: right;\">\n",
       "      <th></th>\n",
       "      <th>duration_sec</th>\n",
       "      <th>start_time</th>\n",
       "      <th>end_time</th>\n",
       "      <th>start_station_name</th>\n",
       "      <th>end_station_name</th>\n",
       "      <th>bike_id</th>\n",
       "      <th>user_type</th>\n",
       "      <th>bike_share_for_all_trip</th>\n",
       "      <th>member_gender</th>\n",
       "      <th>member_age</th>\n",
       "    </tr>\n",
       "  </thead>\n",
       "  <tbody>\n",
       "    <tr>\n",
       "      <th>275834</th>\n",
       "      <td>1230</td>\n",
       "      <td>2019-02-17 20:33:08.892</td>\n",
       "      <td>2019-02-17 20:53:39.250</td>\n",
       "      <td>Market St at Dolores St</td>\n",
       "      <td>2nd St at Townsend St</td>\n",
       "      <td>5226</td>\n",
       "      <td>Subscriber</td>\n",
       "      <td>No</td>\n",
       "      <td>Male</td>\n",
       "      <td>47.0</td>\n",
       "    </tr>\n",
       "    <tr>\n",
       "      <th>681550</th>\n",
       "      <td>180</td>\n",
       "      <td>2019-04-23 12:55:32.878</td>\n",
       "      <td>2019-04-23 12:58:33.358</td>\n",
       "      <td>Washington St at Kearny St</td>\n",
       "      <td>Clay St at Battery St</td>\n",
       "      <td>1168</td>\n",
       "      <td>Subscriber</td>\n",
       "      <td>No</td>\n",
       "      <td>NaN</td>\n",
       "      <td>NaN</td>\n",
       "    </tr>\n",
       "    <tr>\n",
       "      <th>159257</th>\n",
       "      <td>326</td>\n",
       "      <td>2019-01-08 09:22:33.134</td>\n",
       "      <td>2019-01-08 09:27:59.996</td>\n",
       "      <td>Folsom St at 3rd St</td>\n",
       "      <td>Mechanics Monument Plaza (Market St at Bush St)</td>\n",
       "      <td>4733</td>\n",
       "      <td>Subscriber</td>\n",
       "      <td>No</td>\n",
       "      <td>NaN</td>\n",
       "      <td>NaN</td>\n",
       "    </tr>\n",
       "    <tr>\n",
       "      <th>457618</th>\n",
       "      <td>507</td>\n",
       "      <td>2019-03-21 18:33:01.426</td>\n",
       "      <td>2019-03-21 18:41:28.660</td>\n",
       "      <td>Mission Playground</td>\n",
       "      <td>S Van Ness Ave at Market St</td>\n",
       "      <td>6443</td>\n",
       "      <td>Subscriber</td>\n",
       "      <td>No</td>\n",
       "      <td>NaN</td>\n",
       "      <td>NaN</td>\n",
       "    </tr>\n",
       "    <tr>\n",
       "      <th>480150</th>\n",
       "      <td>517</td>\n",
       "      <td>2019-03-19 17:07:08.885</td>\n",
       "      <td>2019-03-19 17:15:46.766</td>\n",
       "      <td>4th St at Harrison St</td>\n",
       "      <td>Mississippi St at 17th St</td>\n",
       "      <td>5936</td>\n",
       "      <td>Subscriber</td>\n",
       "      <td>No</td>\n",
       "      <td>NaN</td>\n",
       "      <td>NaN</td>\n",
       "    </tr>\n",
       "    <tr>\n",
       "      <th>286768</th>\n",
       "      <td>1018</td>\n",
       "      <td>2019-02-15 15:52:27.046</td>\n",
       "      <td>2019-02-15 16:09:25.882</td>\n",
       "      <td>Jackson Playground</td>\n",
       "      <td>San Francisco Ferry Building (Harry Bridges Pl...</td>\n",
       "      <td>3223</td>\n",
       "      <td>Subscriber</td>\n",
       "      <td>No</td>\n",
       "      <td>Male</td>\n",
       "      <td>51.0</td>\n",
       "    </tr>\n",
       "    <tr>\n",
       "      <th>594894</th>\n",
       "      <td>1084</td>\n",
       "      <td>2019-03-06 17:10:53.872</td>\n",
       "      <td>2019-03-06 17:28:58.785</td>\n",
       "      <td>West Oakland BART Station</td>\n",
       "      <td>West Oakland BART Station</td>\n",
       "      <td>5985</td>\n",
       "      <td>Subscriber</td>\n",
       "      <td>No</td>\n",
       "      <td>NaN</td>\n",
       "      <td>NaN</td>\n",
       "    </tr>\n",
       "    <tr>\n",
       "      <th>173691</th>\n",
       "      <td>711</td>\n",
       "      <td>2019-01-04 16:12:39.862</td>\n",
       "      <td>2019-01-04 16:24:31.520</td>\n",
       "      <td>The Embarcadero at Steuart St</td>\n",
       "      <td>Berry St at 4th St</td>\n",
       "      <td>5029</td>\n",
       "      <td>Subscriber</td>\n",
       "      <td>No</td>\n",
       "      <td>NaN</td>\n",
       "      <td>NaN</td>\n",
       "    </tr>\n",
       "    <tr>\n",
       "      <th>359053</th>\n",
       "      <td>638</td>\n",
       "      <td>2019-02-04 17:50:49.115</td>\n",
       "      <td>2019-02-04 18:01:27.768</td>\n",
       "      <td>2nd St at Folsom St</td>\n",
       "      <td>San Francisco Caltrain Station 2  (Townsend St...</td>\n",
       "      <td>3299</td>\n",
       "      <td>Subscriber</td>\n",
       "      <td>No</td>\n",
       "      <td>Male</td>\n",
       "      <td>30.0</td>\n",
       "    </tr>\n",
       "    <tr>\n",
       "      <th>673479</th>\n",
       "      <td>911</td>\n",
       "      <td>2019-04-24 13:51:19.369</td>\n",
       "      <td>2019-04-24 14:06:31.311</td>\n",
       "      <td>Civic Center/UN Plaza BART Station (Market St ...</td>\n",
       "      <td>19th St at Florida St</td>\n",
       "      <td>1199</td>\n",
       "      <td>Customer</td>\n",
       "      <td>No</td>\n",
       "      <td>NaN</td>\n",
       "      <td>NaN</td>\n",
       "    </tr>\n",
       "  </tbody>\n",
       "</table>\n",
       "</div>"
      ],
      "text/plain": [
       "        duration_sec              start_time                end_time  \\\n",
       "275834          1230 2019-02-17 20:33:08.892 2019-02-17 20:53:39.250   \n",
       "681550           180 2019-04-23 12:55:32.878 2019-04-23 12:58:33.358   \n",
       "159257           326 2019-01-08 09:22:33.134 2019-01-08 09:27:59.996   \n",
       "457618           507 2019-03-21 18:33:01.426 2019-03-21 18:41:28.660   \n",
       "480150           517 2019-03-19 17:07:08.885 2019-03-19 17:15:46.766   \n",
       "286768          1018 2019-02-15 15:52:27.046 2019-02-15 16:09:25.882   \n",
       "594894          1084 2019-03-06 17:10:53.872 2019-03-06 17:28:58.785   \n",
       "173691           711 2019-01-04 16:12:39.862 2019-01-04 16:24:31.520   \n",
       "359053           638 2019-02-04 17:50:49.115 2019-02-04 18:01:27.768   \n",
       "673479           911 2019-04-24 13:51:19.369 2019-04-24 14:06:31.311   \n",
       "\n",
       "                                       start_station_name  \\\n",
       "275834                            Market St at Dolores St   \n",
       "681550                         Washington St at Kearny St   \n",
       "159257                                Folsom St at 3rd St   \n",
       "457618                                 Mission Playground   \n",
       "480150                              4th St at Harrison St   \n",
       "286768                                 Jackson Playground   \n",
       "594894                          West Oakland BART Station   \n",
       "173691                      The Embarcadero at Steuart St   \n",
       "359053                                2nd St at Folsom St   \n",
       "673479  Civic Center/UN Plaza BART Station (Market St ...   \n",
       "\n",
       "                                         end_station_name  bike_id  \\\n",
       "275834                              2nd St at Townsend St     5226   \n",
       "681550                              Clay St at Battery St     1168   \n",
       "159257    Mechanics Monument Plaza (Market St at Bush St)     4733   \n",
       "457618                        S Van Ness Ave at Market St     6443   \n",
       "480150                          Mississippi St at 17th St     5936   \n",
       "286768  San Francisco Ferry Building (Harry Bridges Pl...     3223   \n",
       "594894                          West Oakland BART Station     5985   \n",
       "173691                                 Berry St at 4th St     5029   \n",
       "359053  San Francisco Caltrain Station 2  (Townsend St...     3299   \n",
       "673479                              19th St at Florida St     1199   \n",
       "\n",
       "         user_type bike_share_for_all_trip member_gender  member_age  \n",
       "275834  Subscriber                      No          Male        47.0  \n",
       "681550  Subscriber                      No           NaN         NaN  \n",
       "159257  Subscriber                      No           NaN         NaN  \n",
       "457618  Subscriber                      No           NaN         NaN  \n",
       "480150  Subscriber                      No           NaN         NaN  \n",
       "286768  Subscriber                      No          Male        51.0  \n",
       "594894  Subscriber                      No           NaN         NaN  \n",
       "173691  Subscriber                      No           NaN         NaN  \n",
       "359053  Subscriber                      No          Male        30.0  \n",
       "673479    Customer                      No           NaN         NaN  "
      ]
     },
     "execution_count": 43,
     "metadata": {},
     "output_type": "execute_result"
    }
   ],
   "source": [
    "#drop columns not needed for analysis\n",
    "ford_cleandata.drop(['start_station_id','end_station_id','start_station_latitude','start_station_longitude', 'end_station_latitude', 'end_station_longitude','member_birth_year'],axis=1, inplace=True)\n",
    "ford_cleandata.sample(10)"
   ]
  },
  {
   "cell_type": "code",
   "execution_count": 7,
   "metadata": {},
   "outputs": [
    {
     "data": {
      "text/plain": [
       "duration_sec                    0\n",
       "start_time                      0\n",
       "end_time                        0\n",
       "start_station_name            730\n",
       "end_station_name              730\n",
       "bike_id                         0\n",
       "user_type                       0\n",
       "bike_share_for_all_trip         0\n",
       "member_gender              695757\n",
       "member_age                 695757\n",
       "dtype: int64"
      ]
     },
     "execution_count": 7,
     "metadata": {},
     "output_type": "execute_result"
    }
   ],
   "source": [
    "#check for missing data\n",
    "ford_cleandata.isnull().sum()"
   ]
  },
  {
   "cell_type": "code",
   "execution_count": 40,
   "metadata": {},
   "outputs": [],
   "source": [
    "#Drop null rows in start_station_name and end_station_name\n",
    "ford_cleandata.dropna(subset=['start_station_name'], inplace=True)\n",
    "ford_cleandata.dropna(subset=['end_station_name'], inplace=True)\n"
   ]
  },
  {
   "cell_type": "code",
   "execution_count": 41,
   "metadata": {},
   "outputs": [],
   "source": [
    "#change data types for start time, end time\n",
    "ford_cleandata['start_time'] = pd.to_datetime(ford_cleandata['start_time'])\n",
    "ford_cleandata['end_time'] = pd.to_datetime(ford_cleandata['end_time'])"
   ]
  },
  {
   "cell_type": "code",
   "execution_count": 44,
   "metadata": {},
   "outputs": [
    {
     "name": "stdout",
     "output_type": "stream",
     "text": [
      "<class 'pandas.core.frame.DataFrame'>\n",
      "Int64Index: 870174 entries, 0 to 870903\n",
      "Data columns (total 10 columns):\n",
      "duration_sec               870174 non-null int64\n",
      "start_time                 870174 non-null datetime64[ns]\n",
      "end_time                   870174 non-null datetime64[ns]\n",
      "start_station_name         870174 non-null object\n",
      "end_station_name           870174 non-null object\n",
      "bike_id                    870174 non-null int64\n",
      "user_type                  870174 non-null object\n",
      "bike_share_for_all_trip    870174 non-null object\n",
      "member_gender              174952 non-null object\n",
      "member_age                 174952 non-null float64\n",
      "dtypes: datetime64[ns](2), float64(1), int64(2), object(5)\n",
      "memory usage: 73.0+ MB\n"
     ]
    }
   ],
   "source": [
    "ford_cleandata.info()"
   ]
  },
  {
   "cell_type": "code",
   "execution_count": 34,
   "metadata": {},
   "outputs": [
    {
     "data": {
      "text/plain": [
       "(870174, 10)"
      ]
     },
     "execution_count": 34,
     "metadata": {},
     "output_type": "execute_result"
    }
   ],
   "source": [
    "ford_cleandata.shape"
   ]
  },
  {
   "cell_type": "markdown",
   "metadata": {},
   "source": [
    "### What is the structure of your dataset?\n",
    "\n",
    "> After basic cleaning the dataset contains 870174 rows and 10 columns: With Missing values in member_age and member-gender, this is a very high number and can not be dropped. 7 columns had been dropped as i would not be needing them for analysis - start_station_id','end_station_id','start_station_latitude','start_station_longitude', 'end_station_latitude', 'end_station_longitude','member_birth_year \n",
    "\n",
    "### What is/are the main feature(s) of interest in your dataset?\n",
    "\n",
    ">   1.Trip duration (time)\n",
    "    2.Distribution of User Type\n",
    "    3.Monthly bike ride trend\n",
    "    4.Does Age have correlation with how long a rider rides \n",
    "\n",
    "### What features in the dataset do you think will help support your investigation into your feature(s) of interest?\n",
    "\n",
    ">  The duration_sec column will provide infomation we need to calculate the average trip time. The user-type column willl be used to find the distribution. Also, we can extract exact month from start_time and end time he duration_sec column will define the average trip timefor further analysis.\n",
    "The age of riders has been calculated from the birth year column of riders. "
   ]
  },
  {
   "cell_type": "markdown",
   "metadata": {},
   "source": [
    "## Univariate Exploration"
   ]
  },
  {
   "cell_type": "markdown",
   "metadata": {},
   "source": [
    "### Distribution of User Type"
   ]
  },
  {
   "cell_type": "code",
   "execution_count": 9,
   "metadata": {},
   "outputs": [
    {
     "data": {
      "image/png": "[encoded data removed]",
      "text/plain": [
       "<matplotlib.figure.Figure at 0x7fd0c2b2a6a0>"
      ]
     },
     "metadata": {
      "needs_background": "light"
     },
     "output_type": "display_data"
    }
   ],
   "source": [
    "#Create a countplot that shows relationship of usertypes\n",
    "\n",
    "base_color = sb.color_palette()[1]\n",
    "plot = sb.countplot(data=ford_cleandata, x='user_type',color=base_color)\n",
    "plt.xlabel('')\n",
    "plt.ylabel('Number of Bike Trips')\n",
    "plt.title('Number of bike trip by Subscriber and customer');\n",
    "#show the plot\n",
    "plt.show()"
   ]
  },
  {
   "cell_type": "markdown",
   "metadata": {},
   "source": [
    "This shows that the subscribers tend to take more rides than customers of the Ford go bike system"
   ]
  },
  {
   "cell_type": "code",
   "execution_count": 13,
   "metadata": {},
   "outputs": [
    {
     "data": {
      "image/png": "[encoded data removed]",
      "text/plain": [
       "<matplotlib.figure.Figure at 0x7fdbe8bf8f60>"
      ]
     },
     "metadata": {
      "needs_background": "light"
     },
     "output_type": "display_data"
    }
   ],
   "source": [
    "#Create a countplot that shows relationship of riders by gender\n",
    "\n",
    "base_color = sb.color_palette()[1]\n",
    "plot = sb.countplot(data=ford_cleandata, x='member_gender',color=base_color)\n",
    "plt.xlabel('')\n",
    "plt.ylabel('Number of Bike Trips')\n",
    "plt.title('Distribution by Gender');\n",
    "#show the plot\n",
    "plt.show()"
   ]
  },
  {
   "cell_type": "markdown",
   "metadata": {},
   "source": [
    "A large number of riders are male, while a portion are female, a less portion may have reasons for not revealing their gender."
   ]
  },
  {
   "cell_type": "markdown",
   "metadata": {},
   "source": [
    "### Age distribution"
   ]
  },
  {
   "cell_type": "code",
   "execution_count": 14,
   "metadata": {},
   "outputs": [
    {
     "data": {
      "text/plain": [
       "34.0     10214\n",
       "29.0      9323\n",
       "33.0      8967\n",
       "32.0      8640\n",
       "31.0      8484\n",
       "30.0      8245\n",
       "35.0      8010\n",
       "36.0      7953\n",
       "28.0      7654\n",
       "27.0      7420\n",
       "37.0      7023\n",
       "38.0      6557\n",
       "39.0      5953\n",
       "42.0      5011\n",
       "40.0      4987\n",
       "26.0      4637\n",
       "41.0      4344\n",
       "43.0      3756\n",
       "25.0      3476\n",
       "24.0      3208\n",
       "44.0      2830\n",
       "45.0      2706\n",
       "48.0      2633\n",
       "23.0      2504\n",
       "47.0      2503\n",
       "46.0      2435\n",
       "49.0      2080\n",
       "54.0      1927\n",
       "51.0      1924\n",
       "50.0      1909\n",
       "         ...  \n",
       "68.0       301\n",
       "70.0       189\n",
       "71.0       180\n",
       "72.0       178\n",
       "69.0       158\n",
       "75.0       135\n",
       "67.0       134\n",
       "77.0       105\n",
       "73.0        99\n",
       "91.0        89\n",
       "122.0       53\n",
       "74.0        51\n",
       "21.0        34\n",
       "79.0        30\n",
       "80.0        21\n",
       "89.0        20\n",
       "76.0        19\n",
       "120.0       11\n",
       "83.0        11\n",
       "81.0         9\n",
       "121.0        6\n",
       "84.0         3\n",
       "102.0        3\n",
       "88.0         2\n",
       "78.0         2\n",
       "92.0         1\n",
       "112.0        1\n",
       "94.0         1\n",
       "95.0         1\n",
       "144.0        1\n",
       "Name: member_age, Length: 75, dtype: int64"
      ]
     },
     "execution_count": 14,
     "metadata": {},
     "output_type": "execute_result"
    }
   ],
   "source": [
    "#the unique counts of age of riders\n",
    "ford_cleandata.member_age.value_counts()"
   ]
  },
  {
   "cell_type": "code",
   "execution_count": 15,
   "metadata": {
    "scrolled": true
   },
   "outputs": [
    {
     "data": {
      "image/png": "[encoded data removed]",
      "text/plain": [
       "<matplotlib.figure.Figure at 0x7fdbe8b14588>"
      ]
     },
     "metadata": {
      "needs_background": "light"
     },
     "output_type": "display_data"
    }
   ],
   "source": [
    "#a graph to show age distribution\n",
    "plt.figure(figsize=(14,8))\n",
    "sb.boxplot(x='member_age', data=ford_cleandata, palette='Blues')\n",
    "plt.title(\"Riders age distribution \", fontsize=15, y=1.07)\n",
    "plt.xlabel(\"Age\", fontsize=15);"
   ]
  },
  {
   "cell_type": "markdown",
   "metadata": {},
   "source": [
    "Outliers are shown so we will drop rows with abnormal age, from 100 and above"
   ]
  },
  {
   "cell_type": "code",
   "execution_count": 35,
   "metadata": {},
   "outputs": [],
   "source": [
    "#Drop rows with abnormal age, 100 and above\n",
    "ford_cleandata =ford_cleandata[ford_cleandata['member_age'] <= 100]"
   ]
  },
  {
   "cell_type": "code",
   "execution_count": 36,
   "metadata": {},
   "outputs": [
    {
     "data": {
      "image/png": "[encoded data removed]",
      "text/plain": [
       "<matplotlib.figure.Figure at 0x7fd0c2777550>"
      ]
     },
     "metadata": {
      "needs_background": "light"
     },
     "output_type": "display_data"
    }
   ],
   "source": [
    "#recheck with a graph to show age distribution\n",
    "plt.figure(figsize=(14,8))\n",
    "sb.boxplot(x='member_age', data=ford_cleandata, palette='Blues')\n",
    "plt.title(\"Riders age distribution \", fontsize=15, y=1.07)\n",
    "plt.xlabel(\"Age\", fontsize=15);"
   ]
  },
  {
   "cell_type": "code",
   "execution_count": 38,
   "metadata": {},
   "outputs": [
    {
     "data": {
      "text/html": [
       "<div>\n",
       "<style scoped>\n",
       "    .dataframe tbody tr th:only-of-type {\n",
       "        vertical-align: middle;\n",
       "    }\n",
       "\n",
       "    .dataframe tbody tr th {\n",
       "        vertical-align: top;\n",
       "    }\n",
       "\n",
       "    .dataframe thead th {\n",
       "        text-align: right;\n",
       "    }\n",
       "</style>\n",
       "<table border=\"1\" class=\"dataframe\">\n",
       "  <thead>\n",
       "    <tr style=\"text-align: right;\">\n",
       "      <th></th>\n",
       "      <th>duration_sec</th>\n",
       "      <th>start_time</th>\n",
       "      <th>end_time</th>\n",
       "      <th>start_station_name</th>\n",
       "      <th>end_station_name</th>\n",
       "      <th>bike_id</th>\n",
       "      <th>user_type</th>\n",
       "      <th>bike_share_for_all_trip</th>\n",
       "      <th>member_gender</th>\n",
       "      <th>member_age</th>\n",
       "    </tr>\n",
       "  </thead>\n",
       "  <tbody>\n",
       "    <tr>\n",
       "      <th>243746</th>\n",
       "      <td>340</td>\n",
       "      <td>2019-02-21 17:53:10.277</td>\n",
       "      <td>2019-02-21 17:58:51.047</td>\n",
       "      <td>Downtown Berkeley BART</td>\n",
       "      <td>Bancroft Way at College Ave</td>\n",
       "      <td>5785</td>\n",
       "      <td>Subscriber</td>\n",
       "      <td>No</td>\n",
       "      <td>Male</td>\n",
       "      <td>35.0</td>\n",
       "    </tr>\n",
       "    <tr>\n",
       "      <th>302167</th>\n",
       "      <td>751</td>\n",
       "      <td>2019-02-12 18:13:22.191</td>\n",
       "      <td>2019-02-12 18:25:53.281</td>\n",
       "      <td>Salesforce Transit Center (Natoma St at 2nd St)</td>\n",
       "      <td>Berry St at King St</td>\n",
       "      <td>5014</td>\n",
       "      <td>Subscriber</td>\n",
       "      <td>No</td>\n",
       "      <td>Male</td>\n",
       "      <td>31.0</td>\n",
       "    </tr>\n",
       "    <tr>\n",
       "      <th>262844</th>\n",
       "      <td>1035</td>\n",
       "      <td>2019-02-19 17:50:57.700</td>\n",
       "      <td>2019-02-19 18:08:13.495</td>\n",
       "      <td>Beale St at Harrison St</td>\n",
       "      <td>23rd St at Tennessee St</td>\n",
       "      <td>5016</td>\n",
       "      <td>Subscriber</td>\n",
       "      <td>No</td>\n",
       "      <td>Female</td>\n",
       "      <td>42.0</td>\n",
       "    </tr>\n",
       "    <tr>\n",
       "      <th>359828</th>\n",
       "      <td>587</td>\n",
       "      <td>2019-02-04 16:51:49.227</td>\n",
       "      <td>2019-02-04 17:01:36.511</td>\n",
       "      <td>Folsom St at 3rd St</td>\n",
       "      <td>3rd St at Townsend St</td>\n",
       "      <td>5150</td>\n",
       "      <td>Subscriber</td>\n",
       "      <td>No</td>\n",
       "      <td>Male</td>\n",
       "      <td>29.0</td>\n",
       "    </tr>\n",
       "    <tr>\n",
       "      <th>374105</th>\n",
       "      <td>783</td>\n",
       "      <td>2019-02-01 08:34:39.943</td>\n",
       "      <td>2019-02-01 08:47:43.895</td>\n",
       "      <td>Howard St at Beale St</td>\n",
       "      <td>8th St at Ringold St</td>\n",
       "      <td>987</td>\n",
       "      <td>Subscriber</td>\n",
       "      <td>No</td>\n",
       "      <td>Male</td>\n",
       "      <td>35.0</td>\n",
       "    </tr>\n",
       "    <tr>\n",
       "      <th>196312</th>\n",
       "      <td>535</td>\n",
       "      <td>2019-02-28 16:13:34.907</td>\n",
       "      <td>2019-02-28 16:22:30.448</td>\n",
       "      <td>Howard St at 2nd St</td>\n",
       "      <td>San Francisco Caltrain (Townsend St at 4th St)</td>\n",
       "      <td>1832</td>\n",
       "      <td>Subscriber</td>\n",
       "      <td>No</td>\n",
       "      <td>Male</td>\n",
       "      <td>41.0</td>\n",
       "    </tr>\n",
       "    <tr>\n",
       "      <th>309388</th>\n",
       "      <td>557</td>\n",
       "      <td>2019-02-11 22:43:10.139</td>\n",
       "      <td>2019-02-11 22:52:27.281</td>\n",
       "      <td>Jones St at Post St</td>\n",
       "      <td>16th St Mission BART Station 2</td>\n",
       "      <td>2497</td>\n",
       "      <td>Subscriber</td>\n",
       "      <td>No</td>\n",
       "      <td>Male</td>\n",
       "      <td>35.0</td>\n",
       "    </tr>\n",
       "    <tr>\n",
       "      <th>227920</th>\n",
       "      <td>493</td>\n",
       "      <td>2019-02-23 17:36:45.529</td>\n",
       "      <td>2019-02-23 17:44:58.742</td>\n",
       "      <td>MLK Jr Way at 14th St</td>\n",
       "      <td>MLK Jr Way at 14th St</td>\n",
       "      <td>5620</td>\n",
       "      <td>Subscriber</td>\n",
       "      <td>No</td>\n",
       "      <td>Male</td>\n",
       "      <td>54.0</td>\n",
       "    </tr>\n",
       "    <tr>\n",
       "      <th>268548</th>\n",
       "      <td>750</td>\n",
       "      <td>2019-02-19 08:14:14.301</td>\n",
       "      <td>2019-02-19 08:26:44.606</td>\n",
       "      <td>San Francisco Caltrain (Townsend St at 4th St)</td>\n",
       "      <td>Howard St at Beale St</td>\n",
       "      <td>2714</td>\n",
       "      <td>Subscriber</td>\n",
       "      <td>No</td>\n",
       "      <td>Male</td>\n",
       "      <td>46.0</td>\n",
       "    </tr>\n",
       "    <tr>\n",
       "      <th>311213</th>\n",
       "      <td>179</td>\n",
       "      <td>2019-02-11 18:13:27.178</td>\n",
       "      <td>2019-02-11 18:16:26.643</td>\n",
       "      <td>West Oakland BART Station</td>\n",
       "      <td>Union St at 10th St</td>\n",
       "      <td>275</td>\n",
       "      <td>Subscriber</td>\n",
       "      <td>No</td>\n",
       "      <td>Male</td>\n",
       "      <td>36.0</td>\n",
       "    </tr>\n",
       "  </tbody>\n",
       "</table>\n",
       "</div>"
      ],
      "text/plain": [
       "        duration_sec              start_time                end_time  \\\n",
       "243746           340 2019-02-21 17:53:10.277 2019-02-21 17:58:51.047   \n",
       "302167           751 2019-02-12 18:13:22.191 2019-02-12 18:25:53.281   \n",
       "262844          1035 2019-02-19 17:50:57.700 2019-02-19 18:08:13.495   \n",
       "359828           587 2019-02-04 16:51:49.227 2019-02-04 17:01:36.511   \n",
       "374105           783 2019-02-01 08:34:39.943 2019-02-01 08:47:43.895   \n",
       "196312           535 2019-02-28 16:13:34.907 2019-02-28 16:22:30.448   \n",
       "309388           557 2019-02-11 22:43:10.139 2019-02-11 22:52:27.281   \n",
       "227920           493 2019-02-23 17:36:45.529 2019-02-23 17:44:58.742   \n",
       "268548           750 2019-02-19 08:14:14.301 2019-02-19 08:26:44.606   \n",
       "311213           179 2019-02-11 18:13:27.178 2019-02-11 18:16:26.643   \n",
       "\n",
       "                                     start_station_name  \\\n",
       "243746                           Downtown Berkeley BART   \n",
       "302167  Salesforce Transit Center (Natoma St at 2nd St)   \n",
       "262844                          Beale St at Harrison St   \n",
       "359828                              Folsom St at 3rd St   \n",
       "374105                            Howard St at Beale St   \n",
       "196312                              Howard St at 2nd St   \n",
       "309388                              Jones St at Post St   \n",
       "227920                            MLK Jr Way at 14th St   \n",
       "268548   San Francisco Caltrain (Townsend St at 4th St)   \n",
       "311213                        West Oakland BART Station   \n",
       "\n",
       "                                      end_station_name  bike_id   user_type  \\\n",
       "243746                     Bancroft Way at College Ave     5785  Subscriber   \n",
       "302167                             Berry St at King St     5014  Subscriber   \n",
       "262844                         23rd St at Tennessee St     5016  Subscriber   \n",
       "359828                           3rd St at Townsend St     5150  Subscriber   \n",
       "374105                            8th St at Ringold St      987  Subscriber   \n",
       "196312  San Francisco Caltrain (Townsend St at 4th St)     1832  Subscriber   \n",
       "309388                  16th St Mission BART Station 2     2497  Subscriber   \n",
       "227920                           MLK Jr Way at 14th St     5620  Subscriber   \n",
       "268548                           Howard St at Beale St     2714  Subscriber   \n",
       "311213                             Union St at 10th St      275  Subscriber   \n",
       "\n",
       "       bike_share_for_all_trip member_gender  member_age  \n",
       "243746                      No          Male        35.0  \n",
       "302167                      No          Male        31.0  \n",
       "262844                      No        Female        42.0  \n",
       "359828                      No          Male        29.0  \n",
       "374105                      No          Male        35.0  \n",
       "196312                      No          Male        41.0  \n",
       "309388                      No          Male        35.0  \n",
       "227920                      No          Male        54.0  \n",
       "268548                      No          Male        46.0  \n",
       "311213                      No          Male        36.0  "
      ]
     },
     "execution_count": 38,
     "metadata": {},
     "output_type": "execute_result"
    }
   ],
   "source": [
    "ford_cleandata.sample(10)"
   ]
  },
  {
   "cell_type": "markdown",
   "metadata": {},
   "source": [
    "Most of the riders are ranged from ages 30 - 45 years old which makes sense for long distance races"
   ]
  },
  {
   "cell_type": "markdown",
   "metadata": {},
   "source": [
    "### Monthly bike ride trend"
   ]
  },
  {
   "cell_type": "code",
   "execution_count": 45,
   "metadata": {},
   "outputs": [],
   "source": [
    "ford_cleandata['month'] = ford_cleandata.start_time.dt.month"
   ]
  },
  {
   "cell_type": "code",
   "execution_count": 46,
   "metadata": {},
   "outputs": [
    {
     "data": {
      "text/plain": [
       "3    256078\n",
       "4    239047\n",
       "1    191834\n",
       "2    183215\n",
       "Name: month, dtype: int64"
      ]
     },
     "execution_count": 46,
     "metadata": {},
     "output_type": "execute_result"
    }
   ],
   "source": [
    "ford_cleandata['month'].value_counts()"
   ]
  },
  {
   "cell_type": "code",
   "execution_count": 47,
   "metadata": {
    "scrolled": true
   },
   "outputs": [
    {
     "data": {
      "image/png": "[encoded data removed]",
      "text/plain": [
       "<matplotlib.figure.Figure at 0x7fd0c275eb38>"
      ]
     },
     "metadata": {
      "needs_background": "light"
     },
     "output_type": "display_data"
    }
   ],
   "source": [
    "sb.countplot(data=ford_cleandata, x='month', color=sb.color_palette()[1])\n",
    "plt.title('Number of Rides per month');\n",
    "plt.xticks([0, 1, 2, 3], ['Jan', 'Feb', 'March', 'April']);"
   ]
  },
  {
   "cell_type": "markdown",
   "metadata": {},
   "source": [
    "### Trip duration (time)"
   ]
  },
  {
   "cell_type": "code",
   "execution_count": 48,
   "metadata": {},
   "outputs": [
    {
     "data": {
      "image/png": "[encoded data removed]",
      "text/plain": [
       "<matplotlib.figure.Figure at 0x7fd0c27682b0>"
      ]
     },
     "metadata": {
      "needs_background": "light"
     },
     "output_type": "display_data"
    }
   ],
   "source": [
    "# Plot a histogram representing time spent on each race in seconds\n",
    "binsize = 50\n",
    "bins = np.arange(50, ford_cleandata['duration_sec'].max()+binsize, binsize)\n",
    "\n",
    "plt.figure(figsize=[8, 5])\n",
    "plt.hist(data = ford_cleandata, x = 'duration_sec', bins=bins)\n",
    "plt.title('Distribution for various Trip Durations in seconds')\n",
    "plt.xlabel('Duration in seconds')\n",
    "plt.ylabel('Number of trips')\n",
    "plt.xlim([0, 3000]);"
   ]
  },
  {
   "cell_type": "code",
   "execution_count": 49,
   "metadata": {},
   "outputs": [
    {
     "data": {
      "image/png": "[encoded data removed]",
      "text/plain": [
       "<matplotlib.figure.Figure at 0x7fd0c27682e8>"
      ]
     },
     "metadata": {
      "needs_background": "light"
     },
     "output_type": "display_data"
    }
   ],
   "source": [
    "#to get the average duration of a races in minutes, we will convert the seconds column to minutes\n",
    "ford_cleandata['race_mins'] = ford_cleandata['duration_sec'] / 60\n",
    "\n",
    "plt.figure(figsize=[8,8])\n",
    "bins =10**np.arange(0 , 3+0.1 , 0.1)\n",
    "ticks =  [ 0.1 , 0.3 , 1 , 3, 10, 30, 100, 300]\n",
    "labels = ['{}'.format(v) for v in ticks]\n",
    "plt.hist(ford_cleandata['race_mins'],bins=bins)\n",
    "plt.xticks(ticks,labels)\n",
    "plt.xscale('log')\n",
    "plt.title('Distribution for various Trip Durations in minutes')\n",
    "plt.xlabel('Duration in Minutes')\n",
    "plt.ylabel('Number of trips')\n",
    "plt.show()\n"
   ]
  },
  {
   "cell_type": "markdown",
   "metadata": {},
   "source": [
    "### Bike Share for all rides"
   ]
  },
  {
   "cell_type": "code",
   "execution_count": 33,
   "metadata": {},
   "outputs": [
    {
     "data": {
      "image/png": "[encoded data removed]",
      "text/plain": [
       "<matplotlib.figure.Figure at 0x7fdbea0abfd0>"
      ]
     },
     "metadata": {},
     "output_type": "display_data"
    }
   ],
   "source": [
    "# By plotting a pie graph, we call tell the distribution of bikes.\n",
    "\n",
    "labels = list(ford_cleandata.bike_share_for_all_trip.unique())\n",
    "sizes = ford_cleandata.bike_share_for_all_trip.value_counts()\n",
    "explode = (0.16, 0) \n",
    "\n",
    "fig1, ax1 = plt.subplots()\n",
    "ax1.pie(sizes, labels=labels, autopct='%1.1f%%',\n",
    "        shadow=True, startangle=90 , explode = explode )\n",
    "\n",
    "ax1.axis('equal')  \n",
    "plt.tight_layout()\n",
    "plt.title('Bike Share for all trips')\n",
    "plt.show()"
   ]
  },
  {
   "cell_type": "markdown",
   "metadata": {},
   "source": [
    "A very low proportion of bike riders shared bikes compared to those who weren't."
   ]
  },
  {
   "cell_type": "markdown",
   "metadata": {},
   "source": [
    "### Discuss the distribution(s) of your variable(s) of interest. Were there any unusual points? Did you need to perform any transformations?\n",
    "\n",
    "> \n",
    "Age: most of riders age falls between 30 and 45 years old. \n",
    "\n",
    "Gender: A large number of riders are male, while a portion are female, a less portion may have reasons for not revealing their gender. it needs more investigationg because a lot of riders did not indicate their gender, and this would be difficult to determine. \n",
    "\n",
    "Subscribe: the number of trips in subscribers is more than the number in customers this may be because of pricing and population.\n",
    "\n",
    "### Of the features you investigated, were there any unusual distributions? Did you perform any operations on the data to tidy, adjust, or change the form of the data? If so, why did you do this?\n",
    "\n",
    "> The new column age had a lot of outliers, that has been dealth with by dropping rows with high numbers.\n",
    "> New column to calculate the month in which a race was done."
   ]
  },
  {
   "cell_type": "markdown",
   "metadata": {},
   "source": [
    "## Bivariate Exploration"
   ]
  },
  {
   "cell_type": "code",
   "execution_count": 50,
   "metadata": {},
   "outputs": [
    {
     "data": {
      "image/png": "[encoded data removed]",
      "text/plain": [
       "<matplotlib.figure.Figure at 0x7fd0c26016d8>"
      ]
     },
     "metadata": {
      "needs_background": "light"
     },
     "output_type": "display_data"
    }
   ],
   "source": [
    "#A boxplot will show the relationship between usertypes and duration of bike trips\n",
    "plt.figure(figsize = [8, 8])\n",
    "base_color = sb.color_palette()[3]\n",
    "sb.boxplot(data = ford_cleandata.query('race_mins <= 60'), x = 'user_type', y = 'race_mins')\n",
    "plt.title('Relationship between Ford GoBikes Customer and Subscribers Duration in Minutes')\n",
    "plt.xlabel('User Type')\n",
    "plt.ylabel('Duration in minutes')\n",
    "plt.show()\n"
   ]
  },
  {
   "cell_type": "markdown",
   "metadata": {},
   "source": [
    "Customers had longer bike trips than subscribers"
   ]
  },
  {
   "cell_type": "code",
   "execution_count": 35,
   "metadata": {},
   "outputs": [
    {
     "data": {
      "text/plain": [
       "Text(0.5,1,'Distribution of Bike Share per Month')"
      ]
     },
     "execution_count": 35,
     "metadata": {},
     "output_type": "execute_result"
    },
    {
     "data": {
      "image/png": "[encoded data removed]",
      "text/plain": [
       "<matplotlib.figure.Figure at 0x7fdbea015d68>"
      ]
     },
     "metadata": {
      "needs_background": "light"
     },
     "output_type": "display_data"
    }
   ],
   "source": [
    "#use a countplot to show the relationship between the distribution of bike share and the month it was shared.\n",
    "sb.countplot(data=ford_cleandata, x='month', hue='bike_share_for_all_trip')\n",
    "plt.xticks([0, 1, 2, 3], ['Jan', 'Feb', 'March', 'April']);\n",
    "plt.xlabel('Months')\n",
    "plt.ylabel('')\n",
    "plt.title(\"Distribution of Bike Share per Month\")"
   ]
  },
  {
   "cell_type": "code",
   "execution_count": 39,
   "metadata": {
    "scrolled": true
   },
   "outputs": [
    {
     "data": {
      "image/png": "[encoded data removed]",
      "text/plain": [
       "<matplotlib.figure.Figure at 0x7fdbea185b00>"
      ]
     },
     "metadata": {
      "needs_background": "light"
     },
     "output_type": "display_data"
    }
   ],
   "source": [
    "#a countplot to show the relationship between user types and the month of each trip\n",
    "g = sb.countplot(data=ford_cleandata, x='month', hue='user_type')\n",
    "g.legend(loc='center left', bbox_to_anchor=(1, 0.5))\n",
    "plt.xticks([0, 1, 2, 3], ['Jan', 'Feb', 'March', 'April']);\n",
    "#plt.xlabel('Months')\n",
    "plt.ylabel('Number of Users')\n",
    "plt.title(\"Distribution of Users' Type per Month\");\n"
   ]
  },
  {
   "cell_type": "code",
   "execution_count": 40,
   "metadata": {},
   "outputs": [
    {
     "data": {
      "image/png": "[encoded data removed]",
      "text/plain": [
       "<matplotlib.figure.Figure at 0x7fdbe74c2e48>"
      ]
     },
     "metadata": {
      "needs_background": "light"
     },
     "output_type": "display_data"
    }
   ],
   "source": [
    "# Makes the figure enlarged for better visualization \n",
    "plt.figure(figsize = [10,10]) \n",
    "plt.scatter(data = ford_cleandata , x = 'month' , y = 'race_mins')\n",
    "plt.xticks([1, 2, 3, 4 ], ['Jan', 'Feb', 'March', 'April']);\n",
    "plt.title('The Month-wise Trip Duration Trend')\n",
    "plt.xlabel(' ')\n",
    "plt.ylabel('Trip Duration in Minutes');\n"
   ]
  },
  {
   "cell_type": "markdown",
   "metadata": {},
   "source": [
    "### Talk about some of the relationships you observed in this part of the investigation. How did the feature(s) of interest vary with other features in the dataset?\n",
    "\n",
    "> Younger riders between the age 20 and 45 tend to take more rides than older people.\n",
    "> A high percentage of riders are customers compared to subscribers.\n",
    "> Female users average bike trip duration is slightly more than male users.\n",
    "> Subscribed users numbers are way more greater than customers despite of the gender.\n",
    "\n",
    "\n",
    "### Did you observe any interesting relationships between the other features (not the main feature(s) of interest)?\n",
    "\n",
    "> Trip duration in female users and customer users is longer despite of their low count in the dataset\n",
    "> A lot of missing data for gender and age, so we cannot base any conclusion on those two observations"
   ]
  },
  {
   "cell_type": "markdown",
   "metadata": {},
   "source": [
    "## Multivariate Exploration"
   ]
  },
  {
   "cell_type": "code",
   "execution_count": 51,
   "metadata": {},
   "outputs": [
    {
     "data": {
      "image/png": "[encoded data removed]",
      "text/plain": [
       "<matplotlib.figure.Figure at 0x7fd0c2404128>"
      ]
     },
     "metadata": {
      "needs_background": "light"
     },
     "output_type": "display_data"
    }
   ],
   "source": [
    "# Find out if Gender affects a trip duration during thr first quater of the year using a scatter plot\n",
    "graph = sb.FacetGrid(data = ford_cleandata, hue = 'member_gender')\n",
    "graph.map(plt.scatter, 'month','race_mins', alpha = 1/3).add_legend()\n",
    "plt.xticks([1, 2, 3, 4 ], ['Jan', 'Feb', 'March', 'April'])\n",
    "plt.title('Trip Duration(min) Against Month and Gender')\n",
    "plt.xlabel('Month')\n",
    "plt.ylabel('Trip Duration(min)');"
   ]
  },
  {
   "cell_type": "markdown",
   "metadata": {},
   "source": [
    "Only Feburay bike riders gave gender details so no valid conclusion can be drawn from this"
   ]
  },
  {
   "cell_type": "markdown",
   "metadata": {},
   "source": [
    "### Does duration of trip affects the user types and the month"
   ]
  },
  {
   "cell_type": "code",
   "execution_count": 42,
   "metadata": {
    "scrolled": true
   },
   "outputs": [
    {
     "data": {
      "image/png": "[encoded data removed]",
      "text/plain": [
       "<matplotlib.figure.Figure at 0x7fdbea139908>"
      ]
     },
     "metadata": {
      "needs_background": "light"
     },
     "output_type": "display_data"
    }
   ],
   "source": [
    "#finding how duration affects the user types and the month\n",
    "sb.pointplot(data = ford_cleandata, x = 'month', y = 'duration_sec', hue = 'user_type', palette = 'Reds', ci=None)\n",
    "plt.title('Trip duartion across user type in different months')\n",
    "plt.xticks([0, 1, 2, 3], ['Jan', 'Feb', 'March', 'April']);\n",
    "plt.ylabel('Mean Trip Dduration (sec)')\n",
    "plt.xlabel('Months')\n",
    "plt.show();"
   ]
  },
  {
   "cell_type": "markdown",
   "metadata": {},
   "source": [
    "The Customers had longer trips and this is spread across the four months"
   ]
  },
  {
   "cell_type": "markdown",
   "metadata": {},
   "source": [
    "### Does age affect how long a biker rode, and whats the relationship with user type also "
   ]
  },
  {
   "cell_type": "code",
   "execution_count": 52,
   "metadata": {
    "scrolled": true
   },
   "outputs": [
    {
     "data": {
      "image/png": "[encoded data removed]",
      "text/plain": [
       "<matplotlib.figure.Figure at 0x7fd0c259a1d0>"
      ]
     },
     "metadata": {
      "needs_background": "light"
     },
     "output_type": "display_data"
    }
   ],
   "source": [
    "plt.figure(figsize=(15,8))\n",
    "ax = sb.pointplot(x='member_age', y='race_mins', hue='user_type',data=ford_cleandata.query('member_age <= 60'))\n",
    "plt.title('Duration of race by User Type And Age', fontsize=22, y=1.015)\n",
    "plt.xlabel('Age', labelpad=16)\n",
    "plt.ylabel('Race Duration in Minutes', labelpad=16)\n",
    "leg = ax.legend()\n",
    "leg.set_title('Gender',prop={'size':16})\n",
    "ax = plt.gca();"
   ]
  },
  {
   "cell_type": "markdown",
   "metadata": {},
   "source": [
    "## Conclusions\n",
    "> The dataset is for the first 4 months in the year 2019, January, Febuary,March and April.\n",
    "> A large number of riders are male, while a portion are female, a less portion may have reasons for not revealing their gender.\n",
    "> Outliers are shown so we will drop rows with abnormal age, from 100 and above.\n",
    "> Most of the riders are ranged from ages 30 - 45 years old which makes sense for long distance races.\n",
    "> A lot of the bikes rides are covered in short minutes, the average trips takes around 500 - 550 seconds. The age disparity and the duration of trips shows that younger people takes shorter trips compared to older people. \n",
    "> A very low proportion of bike riders shared bikes compared to those who weren't.\n",
    "> The category user type shows that a over 80% of riders are subscribers as compared to nearly 20% of customers, this may be linked to the prices of hikes and funding system needed to take on a trip.This has a great effect on the number of trips taken and the duration of it. Subscribers takes longer and more trips than customers. \n",
    "\n",
    "## Recommendation:\n",
    "> Ford go bike should make conscious effort to make more users subscribers. Marketing strategy should be put in place to get new subscribers or convert customers to subscribers. "
   ]
  },
  {
   "cell_type": "code",
   "execution_count": 53,
   "metadata": {},
   "outputs": [],
   "source": [
    "ford_cleandata.to_csv('ford_cleandata1.csv')"
   ]
  },
  {
   "cell_type": "code",
   "execution_count": null,
   "metadata": {},
   "outputs": [],
   "source": []
  }
 ],
 "metadata": {
  "kernelspec": {
   "display_name": "Python 3",
   "language": "python",
   "name": "python3"
  },
  "language_info": {
   "codemirror_mode": {
    "name": "ipython",
    "version": 3
   },
   "file_extension": ".py",
   "mimetype": "text/x-python",
   "name": "python",
   "nbconvert_exporter": "python",
   "pygments_lexer": "ipython3",
   "version": "3.6.3"
  }
 },
 "nbformat": 4,
 "nbformat_minor": 2
}
